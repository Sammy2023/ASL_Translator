{
 "cells": [
  {
   "cell_type": "code",
   "execution_count": 1,
   "metadata": {},
   "outputs": [
    {
     "name": "stderr",
     "output_type": "stream",
     "text": [
      "2022-12-13 18:20:23.625299: I tensorflow/core/platform/cpu_feature_guard.cc:193] This TensorFlow binary is optimized with oneAPI Deep Neural Network Library (oneDNN) to use the following CPU instructions in performance-critical operations:  AVX2 FMA\n",
      "To enable them in other operations, rebuild TensorFlow with the appropriate compiler flags.\n"
     ]
    }
   ],
   "source": [
    "import numpy as np\n",
    "import os\n",
    "import cv2\n",
    "import matplotlib.pyplot as plt\n",
    "import tensorflow as tf"
   ]
  },
  {
   "cell_type": "code",
   "execution_count": 3,
   "metadata": {},
   "outputs": [
    {
     "name": "stdout",
     "output_type": "stream",
     "text": [
      "0/87000\n",
      "1000/87000\n",
      "2000/87000\n",
      "3000/87000\n",
      "4000/87000\n",
      "5000/87000\n",
      "6000/87000\n",
      "7000/87000\n",
      "8000/87000\n",
      "9000/87000\n",
      "10000/87000\n",
      "11000/87000\n",
      "12000/87000\n"
     ]
    }
   ],
   "source": [
    "image_size = 64\n",
    "\n",
    "train_dir = './dataset/'\n",
    "\n",
    "def get_data(dir):\n",
    "    X = []\n",
    "    y = []\n",
    "    ctr = 0\n",
    "    for cat in os.listdir(dir):\n",
    "        for img_file in os.listdir(dir + cat + '/'):\n",
    "            label = cat\n",
    "            img = cv2.imread(dir + cat + '/' + img_file)\n",
    "            img = cv2.resize(img, (image_size, image_size))\n",
    "            img_arr = np.asarray(img).reshape((image_size, image_size, 3))\n",
    "\n",
    "            X.append(img_arr)\n",
    "            y.append(label)\n",
    "\n",
    "            if ctr % 1000 == 0:\n",
    "                print(str(ctr)+'/87000')\n",
    "            ctr += 1\n",
    "    \n",
    "    return X,y\n",
    "\n",
    "X_train, y_train = get_data(train_dir)\n"
   ]
  },
  {
   "cell_type": "code",
   "execution_count": 8,
   "metadata": {},
   "outputs": [
    {
     "name": "stdout",
     "output_type": "stream",
     "text": [
      "9410\n"
     ]
    }
   ],
   "source": [
    "# Convert to np array\n",
    "X_train = np.array(X_train, dtype=np.float64)\n",
    "y_train = np.array(y_train)"
   ]
  },
  {
   "cell_type": "code",
   "execution_count": 5,
   "metadata": {},
   "outputs": [],
   "source": [
    "X_data = X_train\n",
    "y_data = y_train\n",
    "\n",
    "#split data into test/ train set\n",
    "from sklearn.model_selection import train_test_split\n",
    "X_train, X_test, y_train, y_test = train_test_split(X_data, y_data, test_size=0.25, random_state=69, stratify=y_data)"
   ]
  },
  {
   "cell_type": "code",
   "execution_count": 9,
   "metadata": {},
   "outputs": [],
   "source": [
    "# Encode labels\n",
    "from sklearn.preprocessing import LabelEncoder\n",
    "le = LabelEncoder()\n",
    "# fit the labels -> [ a , b, c, d ... ] -> [0, 1, 2 ,3 ..... ]\n",
    "# encode the label -> [ m, j ,c , ...] -> [16, 7, 3, .... ]\n",
    "y_train_encoded = le.fit_transform(y_train)\n",
    "y_test_encoded = le.fit_transform(y_test)\n",
    "\n",
    "from tensorflow.keras.utils import to_categorical\n",
    "y_train_onehot = to_categorical(y_train_encoded, num_classes=25)\n",
    "y_test_onehot = to_categorical(y_test_encoded, num_classes=25)\n"
   ]
  },
  {
   "cell_type": "code",
   "execution_count": 10,
   "metadata": {},
   "outputs": [
    {
     "name": "stdout",
     "output_type": "stream",
     "text": [
      "(9410, 64, 64, 3)\n",
      "(9410,)\n",
      "(3137, 64, 64, 3)\n",
      "(3137,)\n",
      "(9410,)\n",
      "(3137,)\n"
     ]
    }
   ],
   "source": [
    "print(X_train.shape)\n",
    "print(y_train.shape)\n",
    "print(X_test.shape)\n",
    "print(y_test.shape)\n",
    "print(y_train_encoded.shape)\n",
    "print(y_test_encoded.shape)"
   ]
  },
  {
   "cell_type": "code",
   "execution_count": 11,
   "metadata": {},
   "outputs": [],
   "source": [
    "from tensorflow.keras.callbacks import EarlyStopping\n",
    "early_stop = EarlyStopping(monitor='val_loss',patience=2)"
   ]
  },
  {
   "cell_type": "code",
   "execution_count": 15,
   "metadata": {},
   "outputs": [
    {
     "name": "stdout",
     "output_type": "stream",
     "text": [
      "Model: \"sequential_1\"\n",
      "_________________________________________________________________\n",
      " Layer (type)                Output Shape              Param #   \n",
      "=================================================================\n",
      " conv2d_3 (Conv2D)           (None, 60, 60, 32)        2432      \n",
      "                                                                 \n",
      " activation_3 (Activation)   (None, 60, 60, 32)        0         \n",
      "                                                                 \n",
      " max_pooling2d_3 (MaxPooling  (None, 30, 30, 32)       0         \n",
      " 2D)                                                             \n",
      "                                                                 \n",
      " conv2d_4 (Conv2D)           (None, 28, 28, 64)        18496     \n",
      "                                                                 \n",
      " activation_4 (Activation)   (None, 28, 28, 64)        0         \n",
      "                                                                 \n",
      " max_pooling2d_4 (MaxPooling  (None, 14, 14, 64)       0         \n",
      " 2D)                                                             \n",
      "                                                                 \n",
      " conv2d_5 (Conv2D)           (None, 12, 12, 64)        36928     \n",
      "                                                                 \n",
      " activation_5 (Activation)   (None, 12, 12, 64)        0         \n",
      "                                                                 \n",
      " max_pooling2d_5 (MaxPooling  (None, 6, 6, 64)         0         \n",
      " 2D)                                                             \n",
      "                                                                 \n",
      " flatten_1 (Flatten)         (None, 2304)              0         \n",
      "                                                                 \n",
      " dense_2 (Dense)             (None, 128)               295040    \n",
      "                                                                 \n",
      " dense_3 (Dense)             (None, 25)                3225      \n",
      "                                                                 \n",
      "=================================================================\n",
      "Total params: 356,121\n",
      "Trainable params: 356,121\n",
      "Non-trainable params: 0\n",
      "_________________________________________________________________\n"
     ]
    }
   ],
   "source": [
    "from keras.models import Sequential\n",
    "from keras.layers import Conv2D, MaxPooling2D, Activation, Dense, Flatten, Dropout\n",
    "\n",
    "model = Sequential()\n",
    "model.add(Conv2D(32, (5,5), input_shape=(64,64,3), data_format='channels_last'))\n",
    "model.add(Activation('relu'))\n",
    "model.add(MaxPooling2D((2,2)))\n",
    "model.add(Conv2D(64, (3,3)))\n",
    "\n",
    "model.add(Activation('relu'))\n",
    "model.add(MaxPooling2D((2,2)))\n",
    "model.add(Conv2D(64, (3,3)))\n",
    "model.add(Activation('relu'))\n",
    "model.add(MaxPooling2D((2,2)))\n",
    "model.add(Flatten())\n",
    "model.add(Dense(128, activation='relu'))\n",
    "model.add(Dense(25, activation='softmax'))\n",
    "\n",
    "model.compile(optimizer='adam',\n",
    "              loss='categorical_crossentropy',\n",
    "              metrics=['accuracy'])\n",
    "\n",
    "model.summary()"
   ]
  },
  {
   "cell_type": "code",
   "execution_count": 16,
   "metadata": {},
   "outputs": [
    {
     "name": "stdout",
     "output_type": "stream",
     "text": [
      "Epoch 1/50\n",
      "148/148 [==============================] - 28s 180ms/step - loss: 1.9061 - accuracy: 0.6712 - val_loss: 0.5635 - val_accuracy: 0.8177\n",
      "Epoch 2/50\n",
      "148/148 [==============================] - 31s 210ms/step - loss: 0.1417 - accuracy: 0.9562 - val_loss: 0.1324 - val_accuracy: 0.9519\n",
      "Epoch 3/50\n",
      "148/148 [==============================] - 31s 209ms/step - loss: 0.0321 - accuracy: 0.9904 - val_loss: 0.0633 - val_accuracy: 0.9780\n",
      "Epoch 4/50\n",
      "148/148 [==============================] - 27s 182ms/step - loss: 0.0173 - accuracy: 0.9947 - val_loss: 0.0511 - val_accuracy: 0.9825\n",
      "Epoch 5/50\n",
      "148/148 [==============================] - 28s 189ms/step - loss: 0.0120 - accuracy: 0.9967 - val_loss: 0.0291 - val_accuracy: 0.9898\n",
      "Epoch 6/50\n",
      "148/148 [==============================] - 27s 181ms/step - loss: 0.0083 - accuracy: 0.9982 - val_loss: 0.0422 - val_accuracy: 0.9895\n",
      "Epoch 7/50\n",
      "148/148 [==============================] - 26s 174ms/step - loss: 0.0011 - accuracy: 0.9999 - val_loss: 0.0260 - val_accuracy: 0.9936\n",
      "Epoch 8/50\n",
      "148/148 [==============================] - 25s 171ms/step - loss: 8.8383e-05 - accuracy: 1.0000 - val_loss: 0.0256 - val_accuracy: 0.9939\n",
      "Epoch 9/50\n",
      "148/148 [==============================] - 31s 206ms/step - loss: 5.1475e-05 - accuracy: 1.0000 - val_loss: 0.0247 - val_accuracy: 0.9939\n",
      "Epoch 10/50\n",
      "148/148 [==============================] - 30s 205ms/step - loss: 4.0420e-05 - accuracy: 1.0000 - val_loss: 0.0240 - val_accuracy: 0.9939\n",
      "Epoch 11/50\n",
      "148/148 [==============================] - 26s 175ms/step - loss: 3.0436e-05 - accuracy: 1.0000 - val_loss: 0.0240 - val_accuracy: 0.9943\n",
      "Epoch 12/50\n",
      "148/148 [==============================] - 26s 173ms/step - loss: 2.5324e-05 - accuracy: 1.0000 - val_loss: 0.0237 - val_accuracy: 0.9943\n",
      "Epoch 13/50\n",
      "148/148 [==============================] - 26s 178ms/step - loss: 2.1293e-05 - accuracy: 1.0000 - val_loss: 0.0236 - val_accuracy: 0.9946\n",
      "Epoch 14/50\n",
      "148/148 [==============================] - 28s 185ms/step - loss: 1.8248e-05 - accuracy: 1.0000 - val_loss: 0.0234 - val_accuracy: 0.9943\n",
      "Epoch 15/50\n",
      "148/148 [==============================] - 27s 180ms/step - loss: 1.5761e-05 - accuracy: 1.0000 - val_loss: 0.0235 - val_accuracy: 0.9946\n",
      "Epoch 16/50\n",
      "148/148 [==============================] - 28s 188ms/step - loss: 1.3790e-05 - accuracy: 1.0000 - val_loss: 0.0234 - val_accuracy: 0.9946\n"
     ]
    },
    {
     "data": {
      "text/plain": [
       "<keras.callbacks.History at 0x7fe643c71dc0>"
      ]
     },
     "execution_count": 16,
     "metadata": {},
     "output_type": "execute_result"
    }
   ],
   "source": [
    "model.fit(X_train, y_train_onehot,\n",
    "          epochs=50,\n",
    "          batch_size=64,\n",
    "          verbose=1,\n",
    "          validation_data=(X_test, y_test_onehot),\n",
    "          callbacks=[early_stop])"
   ]
  },
  {
   "cell_type": "code",
   "execution_count": 17,
   "metadata": {},
   "outputs": [
    {
     "name": "stderr",
     "output_type": "stream",
     "text": [
      "WARNING:absl:Found untraced functions such as _jit_compiled_convolution_op, _jit_compiled_convolution_op, _jit_compiled_convolution_op, _update_step_xla while saving (showing 4 of 4). These functions will not be directly callable after loading.\n"
     ]
    },
    {
     "name": "stdout",
     "output_type": "stream",
     "text": [
      "INFO:tensorflow:Assets written to: ./grm/assets\n"
     ]
    },
    {
     "name": "stderr",
     "output_type": "stream",
     "text": [
      "INFO:tensorflow:Assets written to: ./grm/assets\n"
     ]
    }
   ],
   "source": [
    "# save model\n",
    "model.save('./grm')"
   ]
  }
 ],
 "metadata": {
  "kernelspec": {
   "display_name": "Python 3",
   "language": "python",
   "name": "python3"
  },
  "language_info": {
   "codemirror_mode": {
    "name": "ipython",
    "version": 3
   },
   "file_extension": ".py",
   "mimetype": "text/x-python",
   "name": "python",
   "nbconvert_exporter": "python",
   "pygments_lexer": "ipython3",
   "version": "3.9.2 (v3.9.2:1a79785e3e, Feb 19 2021, 09:06:10) \n[Clang 6.0 (clang-600.0.57)]"
  },
  "orig_nbformat": 4,
  "vscode": {
   "interpreter": {
    "hash": "aee8b7b246df8f9039afb4144a1f6fd8d2ca17a180786b69acc140d282b71a49"
   }
  }
 },
 "nbformat": 4,
 "nbformat_minor": 2
}
